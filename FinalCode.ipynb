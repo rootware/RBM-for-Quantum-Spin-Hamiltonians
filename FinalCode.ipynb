{
 "cells": [
  {
   "cell_type": "markdown",
   "metadata": {},
   "source": [
    "# GENERALISED ISING AND HEISENBERG MODEL NQS"
   ]
  },
  {
   "cell_type": "markdown",
   "metadata": {},
   "source": [
    "## Import Requisite Libraries and Files"
   ]
  },
  {
   "cell_type": "code",
   "execution_count": 2,
   "metadata": {},
   "outputs": [],
   "source": [
    "import numpy as np\n",
    "import matplotlib as mp\n",
    "%matplotlib inline\n",
    "import pandas as pd\n",
    "import IsingNQS as INQS\n",
    "import matplotlib.pyplot as plt\n",
    "import matplotlib.cm as cm"
   ]
  },
  {
   "cell_type": "markdown",
   "metadata": {},
   "source": [
    "## 1D Ising Model Code"
   ]
  },
  {
   "cell_type": "code",
   "execution_count": null,
   "metadata": {},
   "outputs": [],
   "source": [
    "J = 4;\n",
    "hx = 0.1;\n",
    "hy = 0\n",
    "hz = 0.0;\n",
    "N = 3\n",
    "alpha = 3\n",
    "eps = 0.1#weight initializer\n",
    "EpochNum = 100#\n",
    "EpochSize = 1000#\n",
    "NumBurn = 5#\n",
    "Skip = 1#divisibility by skip\n",
    "eta = 0.01#learning rate\n",
    "reg = 0.#\n",
    "\n",
    "IsingNQS, Energy, EnergyVariance = INQS.TrainIsingNQS(J,hx,hy,hz,N,alpha,eps,EpochNum,EpochSize,NumBurn,Skip,eta,reg);"
   ]
  },
  {
   "cell_type": "code",
   "execution_count": null,
   "metadata": {},
   "outputs": [],
   "source": [
    "N1=8;\n",
    "eta1=0.01;\n",
    "IsingNQS, Energy1, EnergyVariance1 = INQS.TrainIsingNQS(J,hx,hy,hz,N1,alpha,eps,EpochNum,EpochSize,NumBurn,Skip,eta1,reg)\n",
    "N2=12;\n",
    "eta2=0.01;\n",
    "IsingNQS, Energy2, EnergyVariance2 = INQS.TrainIsingNQS(J,hx,hy,hz,N2,alpha,eps,EpochNum,EpochSize,NumBurn,Skip,eta2,reg)\n",
    "N3=16;\n",
    "eta3=0.01;\n",
    "IsingNQS, Energy3, EnergyVariance3 = INQS.TrainIsingNQS(J,hx,hy,hz,N3,alpha,eps,EpochNum,EpochSize,NumBurn,Skip,eta3,reg)\n",
    "N4=20;\n",
    "eta4=0.01\n",
    "IsingNQS, Energy4, EnergyVariance4 = INQS.TrainIsingNQS(J,hx,hy,hz,N4,alpha,eps,EpochNum,EpochSize,NumBurn,Skip,eta4,reg)"
   ]
  },
  {
   "cell_type": "markdown",
   "metadata": {},
   "source": [
    "# Plotting code"
   ]
  },
  {
   "cell_type": "code",
   "execution_count": null,
   "metadata": {},
   "outputs": [],
   "source": [
    "plt.figure(figsize=(10,8));\n",
    "font = {'family' : 'normal',\n",
    "        'weight' : 'normal',\n",
    "        'size'   : 24};\n",
    "mp.rc('font', **font)\n",
    "plt.plot(Energy/N, label=N);\n",
    "plt.plot(Energy1/N1, label=N1);\n",
    "plt.plot(Energy2/N2, label=N2);\n",
    "plt.plot(Energy3/N3, label=N3);\n",
    "plt.plot(Energy4/N4, label=N4);\n",
    "plt.xlabel('Iterations')\n",
    "plt.title(r'1D Ising for different N, $\\eta$=0.01')\n",
    "plt.ylabel(r'$\\frac{E_{local}}{N}$')\n",
    "plt.grid(True)\n",
    "plt.legend()\n",
    "plt.savefig('1DISING_DifferentN.png')"
   ]
  },
  {
   "cell_type": "code",
   "execution_count": null,
   "metadata": {
    "scrolled": true
   },
   "outputs": [],
   "source": [
    "plt.figure(figsize=(10,8));\n",
    "font = {'family' : 'normal',\n",
    "        'weight' : 'normal',\n",
    "        'size'   : 24};\n",
    "mp.rc('font', **font);\n",
    "plt.imshow(np.real(IsingNQS.W), cmap=cm.Greys)\n",
    "#plt.savefig('weightsN20.png')"
   ]
  },
  {
   "cell_type": "code",
   "execution_count": null,
   "metadata": {},
   "outputs": [],
   "source": [
    "plt.figure(figsize=(10,8));\n",
    "font = {'family' : 'normal',\n",
    "        'weight' : 'normal',\n",
    "        'size'   : 24};\n",
    "mp.rc('font', **font)\n",
    "plt.plot(EnergyVariance, label=N);\n",
    "plt.plot(EnergyVariance1, label=N1);\n",
    "plt.plot(EnergyVariance2, label=N2);\n",
    "plt.plot(EnergyVariance3, label=N3);\n",
    "plt.plot(EnergyVariance4, label=N4);\n",
    "plt.xlabel('Iterations')\n",
    "plt.title(r'Var(Local Energy), $\\eta$=0.01')\n",
    "plt.ylabel(r'Var$(E_{local})$')\n",
    "plt.grid(True)\n",
    "plt.legend()\n",
    "plt.savefig('1DIsingEnergyVariance.png')"
   ]
  },
  {
   "cell_type": "markdown",
   "metadata": {},
   "source": [
    "## Wavefunction Plots"
   ]
  },
  {
   "cell_type": "code",
   "execution_count": null,
   "metadata": {},
   "outputs": [],
   "source": [
    "from itertools import product\n",
    "\n",
    "statvec= np.array(list(product([1,-1],repeat=N)));"
   ]
  },
  {
   "cell_type": "code",
   "execution_count": null,
   "metadata": {},
   "outputs": [],
   "source": [
    "plt.figure(figsize=(12,3));\n",
    "font = {'family' : 'normal',\n",
    "        'weight' : 'normal',\n",
    "        'size'   : 10};\n",
    "mp.rc('font', **font)\n",
    "rap=np.array([IsingNQS.Wavefunc(m)[0] for m in statvec]);\n",
    "rap=rap/np.sum(rap);\n",
    "plt.grid(True);\n",
    "plt.plot(rap, label='');\n",
    "plt.xticks(range(len(rap)), statvec);"
   ]
  },
  {
   "cell_type": "markdown",
   "metadata": {},
   "source": [
    "## Demonstrating Phase transition Via Wavefunction plots"
   ]
  },
  {
   "cell_type": "code",
   "execution_count": 22,
   "metadata": {},
   "outputs": [
    {
     "name": "stderr",
     "output_type": "stream",
     "text": [
      "C:\\Users\\Saad\\Downloads\\IsingNQS.py:523: ComplexWarning: Casting complex values to real discards the imaginary part\n",
      "  SampleThetas[sample,:] = thetas\n"
     ]
    }
   ],
   "source": [
    "J = 5;\n",
    "hx = 0.0;\n",
    "hy = 0\n",
    "hz = 1.0;\n",
    "N = 4\n",
    "alpha = 3\n",
    "eps = 0.1#weight initializer\n",
    "EpochNum = 100#\n",
    "EpochSize = 1000#\n",
    "NumBurn = 5#\n",
    "Skip = 1#divisibility by skip\n",
    "eta = 0.01#learning rate\n",
    "reg = 0.#\n",
    "\n",
    "IsingNQSf, Energy, EnergyVariance = INQS.TrainIsingNQS(J,hx,hy,hz,N,alpha,eps,EpochNum,EpochSize,NumBurn,Skip,eta,reg);\n",
    "\n",
    "J=-5;\n",
    "IsingNQSa, Energy, EnergyVariance = INQS.TrainIsingNQS(J,hx,hy,hz,N,alpha,eps,EpochNum,EpochSize,NumBurn,Skip,eta,reg);\n"
   ]
  },
  {
   "cell_type": "code",
   "execution_count": 38,
   "metadata": {},
   "outputs": [
    {
     "name": "stderr",
     "output_type": "stream",
     "text": [
      "C:\\Users\\Saad\\Anaconda3\\lib\\site-packages\\numpy\\core\\numeric.py:492: ComplexWarning: Casting complex values to real discards the imaginary part\n",
      "  return array(a, dtype, copy=False, order=order)\n",
      "C:\\Users\\Saad\\Anaconda3\\lib\\site-packages\\matplotlib\\font_manager.py:1328: UserWarning: findfont: Font family ['normal'] not found. Falling back to DejaVu Sans\n",
      "  (prop.get_family(), self.defaultFamily[fontext]))\n"
     ]
    },
    {
     "data": {
      "image/png": "[encoded data removed]",
      "text/plain": [
       "<Figure size 1152x216 with 1 Axes>"
      ]
     },
     "metadata": {},
     "output_type": "display_data"
    }
   ],
   "source": [
    "from itertools import product\n",
    "statevec= np.array(list(product([1,-1],repeat=N)));\n",
    "\n",
    "plt.figure(figsize=(16,3));\n",
    "font = {'family' : 'normal',\n",
    "        'weight' : 'normal',\n",
    "        'size'   : 10};\n",
    "mp.rc('font', **font)\n",
    "\n",
    "data1=np.array([IsingNQSf.Wavefunc(m)[0] for m in statevec]);\n",
    "data1=data1/np.sum(data1);\n",
    "data2=np.array([IsingNQSa.Wavefunc(m)[0] for m in statevec]);\n",
    "data2=data2/np.sum(data2);\n",
    "\n",
    "\n",
    "plt.plot(data1, label=r'Ferromagnetic, $J=5$, $\\vec{h}=<0,0,1>$');\n",
    "plt.plot(data2, label=r'Anti-ferromagnetic, $J=-5$, $\\vec{h}=<0,0,1>$');\n",
    "plt.title('Evidence of Different Physics in 1D Ising Wavefunctions')\n",
    "plt.grid(True);\n",
    "plt.xticks(range(len(data1)), statevec, rotation='vertical');\n",
    "plt.ylabel(r'Probability $|\\Psi|^2$')\n",
    "plt.xlabel(r'Possible input states $|\\sigma>$')\n",
    "plt.legend()\n",
    "plt.tight_layout()\n",
    "plt.savefig('FerroAntiFerro.png')"
   ]
  },
  {
   "cell_type": "markdown",
   "metadata": {},
   "source": [
    "## Timing the 1D model"
   ]
  },
  {
   "cell_type": "code",
   "execution_count": 3,
   "metadata": {},
   "outputs": [
    {
     "name": "stderr",
     "output_type": "stream",
     "text": [
      "C:\\Users\\Saad\\Downloads\\IsingNQS.py:523: ComplexWarning: Casting complex values to real discards the imaginary part\n",
      "  SampleThetas[sample,:] = thetas\n"
     ]
    }
   ],
   "source": [
    "import time;\n",
    "T=15;\n",
    "time_list=np.zeros(T);\n",
    "\n",
    "J = 4;\n",
    "hx = 0.1;\n",
    "hy = 0\n",
    "hz = 0.0;\n",
    "alpha = 3\n",
    "eps = 0.1#weight initializer\n",
    "EpochNum = 100#\n",
    "EpochSize = 1000#\n",
    "NumBurn = 5#\n",
    "Skip = 1#divisibility by skip\n",
    "eta = 0.01#learning rate\n",
    "reg = 0.#\n",
    "\n",
    "for i in range(0,T):\n",
    "    start=time.time();\n",
    "    N=i+3;\n",
    "    for thru in range(5):\n",
    "        INQS.TrainIsingNQS(J,hx,hy,hz,N,alpha,eps,EpochNum,EpochSize,NumBurn,Skip,eta,reg);\n",
    "    end=time.time();\n",
    "    time_list[i]=(end-start)/5.0;\n"
   ]
  },
  {
   "cell_type": "code",
   "execution_count": 8,
   "metadata": {},
   "outputs": [
    {
     "data": {
      "text/plain": [
       "Text(0.5,1,'Timing the 1D Ising NQS, 100 epochs of 1000 each')"
      ]
     },
     "execution_count": 8,
     "metadata": {},
     "output_type": "execute_result"
    },
    {
     "data": {
      "image/png": "[encoded data removed]",
      "text/plain": [
       "<Figure size 432x288 with 1 Axes>"
      ]
     },
     "metadata": {},
     "output_type": "display_data"
    }
   ],
   "source": [
    "plt.figure(figsize=(6,4));\n",
    "plt.plot(np.arange(3,T+3),time_list)\n",
    "plt.grid(True)\n",
    "plt.ylabel('Time in sec')\n",
    "plt.xlabel('Number of spins N')\n",
    "plt.title('Timing the 1D Ising NQS, 100 epochs of 1000 each')"
   ]
  },
  {
   "cell_type": "markdown",
   "metadata": {},
   "source": [
    "## The 2D Ising model"
   ]
  },
  {
   "cell_type": "code",
   "execution_count": null,
   "metadata": {},
   "outputs": [],
   "source": [
    "J = 3\n",
    "hx = 1\n",
    "hy = 0\n",
    "hz = 1\n",
    "Na = 3\n",
    "Nb = 3\n",
    "alpha = 3\n",
    "eps = 0.1\n",
    "EpochNum = 50\n",
    "EpochSize = 1000\n",
    "NumBurn = 5\n",
    "Skip = 1\n",
    "eta = 0.01\n",
    "reg = 0\n",
    "\n",
    "IsingNQS2D, Energy2D, EnergyVariance2D=INQS.Train2DIsingNQS(J,hx,hy,hz,Na,Nb,alpha,eps,EpochNum,EpochSize,NumBurn,Skip,eta,reg)"
   ]
  },
  {
   "cell_type": "markdown",
   "metadata": {},
   "source": [
    "# 3D Ising Model"
   ]
  },
  {
   "cell_type": "code",
   "execution_count": null,
   "metadata": {},
   "outputs": [],
   "source": [
    "J = 3\n",
    "hx = 1\n",
    "hy = 0\n",
    "hz = 1\n",
    "Na = 4\n",
    "Nb = 2\n",
    "Nc = 2\n",
    "alpha = 3\n",
    "eps = 0.1\n",
    "EpochNum = 50\n",
    "EpochSize = 10000\n",
    "NumBurn = 5\n",
    "Skip = 1\n",
    "eta = 0.01\n",
    "reg = 0\n",
    "\n",
    "IsingNQS3D, Energy3D, EnergyVariance3D = INQS.Train3DIsingNQS(J,hx,hy,hz,Na,Nb,Nc,alpha,eps,EpochNum,EpochSize,NumBurn,Skip,eta,reg)"
   ]
  },
  {
   "cell_type": "markdown",
   "metadata": {},
   "source": [
    "# 1D Heisenberg model"
   ]
  },
  {
   "cell_type": "code",
   "execution_count": null,
   "metadata": {},
   "outputs": [],
   "source": [
    "Jx = 3\n",
    "Jy = 3\n",
    "Jz = 3\n",
    "hx = 1\n",
    "hy = 0\n",
    "hz = 1\n",
    "N = 8\n",
    "alpha = 2\n",
    "eps = 0.1\n",
    "EpochNum = 100\n",
    "EpochSize = 1000\n",
    "NumBurn = 5\n",
    "Skip = 1\n",
    "eta = 0.1\n",
    "reg = 0\n",
    "\n",
    "HeisenbergNQS, HeisenbergEnergy, HeisenbergEnergyVariance = INQS.TrainHeisenbergNQS(Jx,Jy,Jz,hx,hy,hz,N,alpha,eps,EpochNum,EpochSize,NumBurn,Skip,eta,reg)"
   ]
  },
  {
   "cell_type": "markdown",
   "metadata": {},
   "source": [
    "# Further Plotting"
   ]
  },
  {
   "cell_type": "markdown",
   "metadata": {},
   "source": [
    "## Higher dimensional Ising Models"
   ]
  },
  {
   "cell_type": "code",
   "execution_count": null,
   "metadata": {},
   "outputs": [],
   "source": [
    "plt.figure(figsize=(10,8));\n",
    "font = {'family' : 'normal',\n",
    "        'weight' : 'normal',\n",
    "        'size'   : 18};\n",
    "mp.rc('font', **font)\n",
    "#plt.plot(HeisenbergEnergy/N, label=r'Heisenberg, $\\vec{J}=<3,3,3>$, $\\vec{h}=<1,0,1>$');\n",
    "plt.plot(Energy2D/9, label=r'2D $3\\times3$, $J=3$, $\\vec{h}=<1,0,1>$');\n",
    "plt.plot(Energy3D/(4*2*2), label=r'3D $4\\times 2 \\times 2$, $J=3$, $\\vec{h}=<1,0,1>$');\n",
    "plt.xlabel('Iterations')\n",
    "plt.title(r'Higher Dimensional Ising Spin Models, $\\eta$=0.01')\n",
    "plt.ylabel(r'$\\frac{E_{local}}{N}$')\n",
    "plt.grid(True)\n",
    "plt.legend(loc=1)\n",
    "plt.savefig('dIsing.png')"
   ]
  },
  {
   "cell_type": "code",
   "execution_count": null,
   "metadata": {},
   "outputs": [],
   "source": [
    "plt.figure(figsize=(10,8));\n",
    "font = {'family' : 'normal',\n",
    "        'weight' : 'normal',\n",
    "        'size'   : 24};\n",
    "mp.rc('font', **font)\n",
    "plt.plot(EnergyVariance2D, label=r'2D $3\\times3$, $J=3$, $\\vec{h}=<1,0,1>$');\n",
    "plt.plot(EnergyVariance3D, label=r'3D $4\\times 2 \\times 2$, $J=3$, $\\vec{h}=<1,0,1>$');\n",
    "plt.xlabel('Iterations')\n",
    "plt.title(r'Var(Local Energy) for Higher Dimensional Ising, $\\eta$=0.01')\n",
    "plt.ylabel(r'Var$(E_{local})$')\n",
    "plt.grid(True)\n",
    "plt.legend()\n",
    "plt.savefig('HigherDIsingEnergyVariance.png')"
   ]
  },
  {
   "cell_type": "markdown",
   "metadata": {},
   "source": [
    "## 1D Heisenberg Model"
   ]
  },
  {
   "cell_type": "code",
   "execution_count": null,
   "metadata": {},
   "outputs": [],
   "source": [
    "plt.figure(figsize=(10,8));\n",
    "font = {'family' : 'normal',\n",
    "        'weight' : 'normal',\n",
    "        'size'   : 18};\n",
    "mp.rc('font', **font)\n",
    "plt.plot(HeisenbergEnergy/N, label=r'$\\vec{J}=<3,3,3>$, $\\vec{h}=<1,0,1>$');\n",
    "#plt.plot(Energy2D/9, label=r'Ising2D $3\\times3$, $J=3$,$\\vec{h}=<1,0,1>$');\n",
    "#plt.plot(Energy3D/(4*2*2), label=r'Ising3D $4\\times 2 \\times 2$,$J=3$,$\\vec{h}=<1,0,1>$ ');\n",
    "plt.xlabel('Iterations')\n",
    "plt.title(r'Heisenberg Spin Models Energy, $\\eta$=0.1')\n",
    "plt.ylabel(r'$\\frac{E_{local}}{N}$')\n",
    "plt.grid(True)\n",
    "plt.legend(loc=1)\n",
    "plt.savefig('Heisenberg.png')"
   ]
  },
  {
   "cell_type": "code",
   "execution_count": null,
   "metadata": {},
   "outputs": [],
   "source": [
    "plt.figure(figsize=(10,8));\n",
    "font = {'family' : 'normal',\n",
    "        'weight' : 'normal',\n",
    "        'size'   : 24};\n",
    "mp.rc('font', **font)\n",
    "plt.plot(HeisenbergEnergyVariance,label=r'$\\vec{J}=<3,3,3>$, $\\vec{h}=<1,0,1>$')\n",
    "plt.xlabel('Iterations')\n",
    "plt.title(r'Var(Local Energy) for Heisenberg, $\\eta$=0.1')\n",
    "plt.ylabel(r'Var$(E_{local})$')\n",
    "plt.grid(True)\n",
    "plt.legend()\n",
    "plt.savefig('HeisenbergEnergyVariance.png')"
   ]
  },
  {
   "cell_type": "markdown",
   "metadata": {},
   "source": [
    "## Finding Other Energy Eigenstates"
   ]
  },
  {
   "cell_type": "code",
   "execution_count": null,
   "metadata": {},
   "outputs": [],
   "source": [
    "J = 3\n",
    "hx = 1\n",
    "hy = 0\n",
    "hz = 1\n",
    "N = 8\n",
    "alpha = 2\n",
    "eps = 0.1\n",
    "EpochNum = 30\n",
    "EpochSize = 1000\n",
    "NumBurn = 5\n",
    "Skip = 1\n",
    "eta = 0.1\n",
    "reg = 0\n",
    "lagrange = 0.0001\n",
    "\n",
    "IsingHigherStateNQS, IsingGroundStateNQS, Energies, EnergyVariance, Overlaps = INQS.TrainIsingHigherEnergyNQS(J,hx,hy,hz,N,alpha,eps,EpochNum,EpochSize,NumBurn,Skip,eta,reg,lagrange)"
   ]
  },
  {
   "cell_type": "code",
   "execution_count": null,
   "metadata": {},
   "outputs": [],
   "source": []
  }
 ],
 "metadata": {
  "anaconda-cloud": {},
  "kernelspec": {
   "display_name": "Python 3",
   "language": "python",
   "name": "python3"
  },
  "language_info": {
   "codemirror_mode": {
    "name": "ipython",
    "version": 3
   },
   "file_extension": ".py",
   "mimetype": "text/x-python",
   "name": "python",
   "nbconvert_exporter": "python",
   "pygments_lexer": "ipython3",
   "version": "3.6.5"
  }
 },
 "nbformat": 4,
 "nbformat_minor": 1
}
